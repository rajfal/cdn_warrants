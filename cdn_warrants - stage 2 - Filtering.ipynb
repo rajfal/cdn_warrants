{
 "cells": [
  {
   "cell_type": "code",
   "execution_count": 1,
   "metadata": {
    "collapsed": true
   },
   "outputs": [],
   "source": [
    "# Import modules\n",
    "import pandas as pd"
   ]
  },
  {
   "cell_type": "code",
   "execution_count": 2,
   "metadata": {
    "collapsed": false,
    "scrolled": true
   },
   "outputs": [],
   "source": [
    "# read in and display sample records and disable indexing the 1st column\n",
    "df = pd.DataFrame.from_csv('warrants_market_data_2017.06.01.csv', index_col=None)\n",
    "# new header columns\n",
    "df.columns = ['company','stock','symbol','exercise-price','warrant','leverage','yrs2expiry','expiry-date',\n",
    "              'currency','day2expiry', 'int-val','%-til-xrs','price-time-gain']\n",
    "\n",
    "###==>  df.iloc[:6,:8]"
   ]
  },
  {
   "cell_type": "code",
   "execution_count": 4,
   "metadata": {
    "collapsed": false
   },
   "outputs": [],
   "source": [
    "# Create variable with TRUE if 06-leverage is greater than 4\n",
    "leverage = df['leverage'] >= 4.0\n",
    "\n",
    "# Create variable with TRUE if 07-yrs_to_expiry is greater than 3.5 years\n",
    "years_left = df['yrs2expiry'] > 3.5\n",
    "\n",
    "# Create variable with TRUE if 02-stk_close is lesser than 04-exercise_price; warrant is out of/at the money\n",
    "warrant_not_out_of_money = df['stock'] < df['exercise-price']\n",
    "\n",
    "# Select all warrants that meet each condition above\n",
    "fw = df[leverage & years_left & warrant_not_out_of_money]\n",
    "\n",
    "#filtered warrants\n",
    "###==>  fw"
   ]
  },
  {
   "cell_type": "code",
   "execution_count": 7,
   "metadata": {
    "collapsed": true
   },
   "outputs": [],
   "source": [
    "# save warrants that meet the selection condition to local file + only essential columns\n",
    "cols_wanted = ['company','symbol','stock','exercise-price','warrant','leverage','expiry-date','price-time-gain']\n",
    "fw[cols_wanted].to_csv('warrants_filtered_selection.csv', index=False)"
   ]
  }
 ],
 "metadata": {
  "kernelspec": {
   "display_name": "Python 3",
   "language": "python",
   "name": "python3"
  },
  "language_info": {
   "codemirror_mode": {
    "name": "ipython",
    "version": 3
   },
   "file_extension": ".py",
   "mimetype": "text/x-python",
   "name": "python",
   "nbconvert_exporter": "python",
   "pygments_lexer": "ipython3",
   "version": "3.6.0"
  }
 },
 "nbformat": 4,
 "nbformat_minor": 2
}
