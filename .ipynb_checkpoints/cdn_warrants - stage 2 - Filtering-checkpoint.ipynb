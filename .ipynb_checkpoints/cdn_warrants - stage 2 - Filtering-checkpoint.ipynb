{
 "cells": [
  {
   "cell_type": "code",
   "execution_count": 56,
   "metadata": {
    "collapsed": true
   },
   "outputs": [],
   "source": [
    "# Import modules\n",
    "import pandas as pd\n"
   ]
  },
  {
   "cell_type": "code",
   "execution_count": 121,
   "metadata": {
    "collapsed": false,
    "scrolled": true
   },
   "outputs": [],
   "source": [
    "# read in and display sample records and disable indexing the 1st column\n",
    "df = pd.DataFrame.from_csv('warrants_market_data_2017.06.01.csv', index_col=None)\n",
    "\n",
    "###==>  df.iloc[:6,:8]"
   ]
  },
  {
   "cell_type": "code",
   "execution_count": 46,
   "metadata": {
    "collapsed": false
   },
   "outputs": [],
   "source": [
    "# Create variable with TRUE if 06-leverage is greater than 4\n",
    "leverage = df['06-leverage'] >= 4.0\n",
    "\n",
    "# Create variable with TRUE if 07-yrs_to_expiry is greater than 3.5 years\n",
    "years_left = df['07-yrs_to_expiry'] > 3.5\n",
    "\n",
    "# Create variable with TRUE if 02-stk_close is lesser than 04-exercise_price; warrant is out of/at the money\n",
    "warrant_not_out_of_money = df['02-stk_close'] < df['04-exercise_price']\n",
    "\n",
    "# Select all warrants that meet each condition above\n",
    "fw = df[leverage & years_left & warrant_not_out_of_money]\n",
    "\n",
    "#filtered warrants\n",
    "###==>  fw"
   ]
  },
  {
   "cell_type": "code",
   "execution_count": 127,
   "metadata": {
    "collapsed": false
   },
   "outputs": [
    {
     "data": {
      "text/html": [
       "<div>\n",
       "<table border=\"1\" class=\"dataframe\">\n",
       "  <thead>\n",
       "    <tr style=\"text-align: right;\">\n",
       "      <th></th>\n",
       "      <th>company</th>\n",
       "      <th>stock</th>\n",
       "      <th>symbol</th>\n",
       "      <th>war-xrs-price</th>\n",
       "      <th>warrant</th>\n",
       "      <th>leverage</th>\n",
       "      <th>yrs2expiry</th>\n",
       "    </tr>\n",
       "  </thead>\n",
       "  <tbody>\n",
       "    <tr>\n",
       "      <th>0</th>\n",
       "      <td>Acasta Enterprises Inc</td>\n",
       "      <td>8.750</td>\n",
       "      <td>AEF.WT</td>\n",
       "      <td>11.50</td>\n",
       "      <td>1.200</td>\n",
       "      <td>7.3</td>\n",
       "      <td>4.6</td>\n",
       "    </tr>\n",
       "    <tr>\n",
       "      <th>1</th>\n",
       "      <td>Kew Media Group Inc</td>\n",
       "      <td>9.850</td>\n",
       "      <td>KEW.WT</td>\n",
       "      <td>11.50</td>\n",
       "      <td>1.670</td>\n",
       "      <td>5.9</td>\n",
       "      <td>6.0</td>\n",
       "    </tr>\n",
       "    <tr>\n",
       "      <th>2</th>\n",
       "      <td>Manitok Energy Inc</td>\n",
       "      <td>0.115</td>\n",
       "      <td>MEI.WT</td>\n",
       "      <td>0.18</td>\n",
       "      <td>0.025</td>\n",
       "      <td>4.6</td>\n",
       "      <td>4.5</td>\n",
       "    </tr>\n",
       "    <tr>\n",
       "      <th>3</th>\n",
       "      <td>Osisko Gold Royalties Ltd</td>\n",
       "      <td>14.260</td>\n",
       "      <td>OR.WT</td>\n",
       "      <td>36.50</td>\n",
       "      <td>2.400</td>\n",
       "      <td>5.9</td>\n",
       "      <td>4.7</td>\n",
       "    </tr>\n",
       "    <tr>\n",
       "      <th>4</th>\n",
       "      <td>Titan Medical Inc</td>\n",
       "      <td>0.353</td>\n",
       "      <td>TMD.WT.G</td>\n",
       "      <td>1.00</td>\n",
       "      <td>0.030</td>\n",
       "      <td>11.8</td>\n",
       "      <td>3.7</td>\n",
       "    </tr>\n",
       "    <tr>\n",
       "      <th>5</th>\n",
       "      <td>Titan Medical Inc</td>\n",
       "      <td>0.353</td>\n",
       "      <td>TMD.WT.H</td>\n",
       "      <td>1.20</td>\n",
       "      <td>0.035</td>\n",
       "      <td>10.1</td>\n",
       "      <td>3.8</td>\n",
       "    </tr>\n",
       "    <tr>\n",
       "      <th>6</th>\n",
       "      <td>Titan Medical Inc</td>\n",
       "      <td>0.353</td>\n",
       "      <td>TMD.WT.I</td>\n",
       "      <td>0.75</td>\n",
       "      <td>0.060</td>\n",
       "      <td>5.9</td>\n",
       "      <td>4.3</td>\n",
       "    </tr>\n",
       "    <tr>\n",
       "      <th>7</th>\n",
       "      <td>Trilogy Intl Partners Inc</td>\n",
       "      <td>9.500</td>\n",
       "      <td>TRL.WT</td>\n",
       "      <td>11.50</td>\n",
       "      <td>0.500</td>\n",
       "      <td>19.0</td>\n",
       "      <td>4.7</td>\n",
       "    </tr>\n",
       "  </tbody>\n",
       "</table>\n",
       "</div>"
      ],
      "text/plain": [
       "                     company   stock    symbol  war-xrs-price  warrant  \\\n",
       "0     Acasta Enterprises Inc   8.750    AEF.WT          11.50    1.200   \n",
       "1        Kew Media Group Inc   9.850    KEW.WT          11.50    1.670   \n",
       "2         Manitok Energy Inc   0.115    MEI.WT           0.18    0.025   \n",
       "3  Osisko Gold Royalties Ltd  14.260     OR.WT          36.50    2.400   \n",
       "4          Titan Medical Inc   0.353  TMD.WT.G           1.00    0.030   \n",
       "5          Titan Medical Inc   0.353  TMD.WT.H           1.20    0.035   \n",
       "6          Titan Medical Inc   0.353  TMD.WT.I           0.75    0.060   \n",
       "7  Trilogy Intl Partners Inc   9.500    TRL.WT          11.50    0.500   \n",
       "\n",
       "   leverage  yrs2expiry  \n",
       "0       7.3         4.6  \n",
       "1       5.9         6.0  \n",
       "2       4.6         4.5  \n",
       "3       5.9         4.7  \n",
       "4      11.8         3.7  \n",
       "5      10.1         3.8  \n",
       "6       5.9         4.3  \n",
       "7      19.0         4.7  "
      ]
     },
     "execution_count": 127,
     "metadata": {},
     "output_type": "execute_result"
    }
   ],
   "source": [
    "# read in the filtered selection and display all warrants that satisfy the above filter\n",
    "df = pd.DataFrame.from_csv('warrants_filtered_selection.csv', index_col=None)\n",
    "# new header columns\n",
    "df.columns = ['company','stock','symbol','war-xrs-price','warrant','leverage','yrs2expiry','expiry-date','currency','day2expiry', 'int-val','%-til-xrs','price-time-gain']\n",
    "\n",
    "###==>  df.iloc[:,0:7]\n",
    "df.iloc[:,0:7]"
   ]
  },
  {
   "cell_type": "code",
   "execution_count": null,
   "metadata": {
    "collapsed": false
   },
   "outputs": [],
   "source": [
    "# save warrants that meet the selection condition to local file\n",
    "fw.to_csv('warrants_filtered_selection.csv', index=False)"
   ]
  },
  {
   "cell_type": "code",
   "execution_count": null,
   "metadata": {
    "collapsed": true
   },
   "outputs": [],
   "source": []
  }
 ],
 "metadata": {
  "kernelspec": {
   "display_name": "Python 3",
   "language": "python",
   "name": "python3"
  },
  "language_info": {
   "codemirror_mode": {
    "name": "ipython",
    "version": 3
   },
   "file_extension": ".py",
   "mimetype": "text/x-python",
   "name": "python",
   "nbconvert_exporter": "python",
   "pygments_lexer": "ipython3",
   "version": "3.6.0"
  }
 },
 "nbformat": 4,
 "nbformat_minor": 2
}
