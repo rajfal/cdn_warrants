{
 "cells": [
  {
   "cell_type": "code",
   "execution_count": 1,
   "metadata": {
    "collapsed": true
   },
   "outputs": [],
   "source": [
    "import numpy as np"
   ]
  },
  {
   "cell_type": "code",
   "execution_count": 2,
   "metadata": {
    "collapsed": true
   },
   "outputs": [],
   "source": [
    "# set up numbers for Acasta Enterprises Inc market instruments\n",
    "common_price = 8.88\n",
    "warrant_price = 1.20\n",
    "warrant_xrs_price = 11.50"
   ]
  },
  {
   "cell_type": "code",
   "execution_count": 30,
   "metadata": {
    "collapsed": false
   },
   "outputs": [
    {
     "data": {
      "text/plain": [
       "8"
      ]
     },
     "execution_count": 30,
     "metadata": {},
     "output_type": "execute_result"
    }
   ],
   "source": [
    "# define a list of price targets\n",
    "price_target_defs = [1.0, 1.25, 1.5, 2.0, 2.5, 3.0, 4.0, 5.0]\n",
    "len(price_target_defs)"
   ]
  },
  {
   "cell_type": "code",
   "execution_count": 31,
   "metadata": {
    "collapsed": false
   },
   "outputs": [
    {
     "data": {
      "text/plain": [
       "array([[ 1.  ,  1.25,  1.5 ,  2.  ,  2.5 ,  3.  ,  4.  ,  5.  ],\n",
       "       [ 0.  ,  0.  ,  0.  ,  0.  ,  0.  ,  0.  ,  0.  ,  0.  ],\n",
       "       [ 0.  ,  0.  ,  0.  ,  0.  ,  0.  ,  0.  ,  0.  ,  0.  ],\n",
       "       [ 0.  ,  0.  ,  0.  ,  0.  ,  0.  ,  0.  ,  0.  ,  0.  ],\n",
       "       [ 0.  ,  0.  ,  0.  ,  0.  ,  0.  ,  0.  ,  0.  ,  0.  ],\n",
       "       [ 0.  ,  0.  ,  0.  ,  0.  ,  0.  ,  0.  ,  0.  ,  0.  ],\n",
       "       [ 0.  ,  0.  ,  0.  ,  0.  ,  0.  ,  0.  ,  0.  ,  0.  ],\n",
       "       [ 0.  ,  0.  ,  0.  ,  0.  ,  0.  ,  0.  ,  0.  ,  0.  ]])"
      ]
     },
     "execution_count": 31,
     "metadata": {},
     "output_type": "execute_result"
    }
   ],
   "source": [
    "# append price targets to an empty array\n",
    "c = np.append([price_target_defs],np.zeros(shape=(7,8)),axis=0)\n",
    "c"
   ]
  },
  {
   "cell_type": "code",
   "execution_count": 32,
   "metadata": {
    "collapsed": false
   },
   "outputs": [
    {
     "data": {
      "text/plain": [
       "(8, 8)"
      ]
     },
     "execution_count": 32,
     "metadata": {},
     "output_type": "execute_result"
    }
   ],
   "source": [
    "c.shape"
   ]
  },
  {
   "cell_type": "code",
   "execution_count": 33,
   "metadata": {
    "collapsed": false
   },
   "outputs": [
    {
     "name": "stdout",
     "output_type": "stream",
     "text": [
      "1.0\n",
      "1.25\n",
      "1.5\n",
      "2.0\n",
      "2.5\n",
      "3.0\n",
      "4.0\n",
      "5.0\n"
     ]
    },
    {
     "data": {
      "text/plain": [
       "[None, None, None, None, None, None, None, None]"
      ]
     },
     "execution_count": 33,
     "metadata": {},
     "output_type": "execute_result"
    }
   ],
   "source": [
    "[print(price_target_defs[warrant]) for warrant in range(len(price_target_defs))]"
   ]
  },
  {
   "cell_type": "code",
   "execution_count": 77,
   "metadata": {
    "collapsed": false
   },
   "outputs": [
    {
     "data": {
      "text/plain": [
       "array([[  1.   ,   1.25 ,   1.5  ,   2.   ,   2.5  ,   3.   ,   4.   ,   5.   ],\n",
       "       [ 11.5  ,  14.375,  17.25 ,  23.   ,  28.75 ,  34.5  ,  46.   ,\n",
       "         57.5  ]])"
      ]
     },
     "execution_count": 77,
     "metadata": {},
     "output_type": "execute_result"
    }
   ],
   "source": [
    "#[print(c[0][warrant]*warrant_xrs_price) for warrant in range(len(c))]\n",
    "# -> get price targets\n",
    "avaleva = [c[0][warrant]*warrant_xrs_price for warrant in range(len(c))]\n",
    "d = np.append([price_target_defs],[avaleva],axis=0)\n",
    "# show price target defs + price targets\n",
    "d"
   ]
  },
  {
   "cell_type": "code",
   "execution_count": 78,
   "metadata": {
    "collapsed": false
   },
   "outputs": [
    {
     "data": {
      "text/plain": [
       "array([[  1.   ,   1.25 ,   1.5  ,   2.   ,   2.5  ,   3.   ,   4.   ,   5.   ],\n",
       "       [ 11.5  ,  14.375,  17.25 ,  23.   ,  28.75 ,  34.5  ,  46.   ,\n",
       "         57.5  ],\n",
       "       [  2.62 ,   5.495,   8.37 ,  14.12 ,  19.87 ,  25.62 ,  37.12 ,\n",
       "         48.62 ]])"
      ]
     },
     "execution_count": 78,
     "metadata": {},
     "output_type": "execute_result"
    }
   ],
   "source": [
    "#[print(d[1][warrant]-common_price) for warrant in range(len(d[0]))]\n",
    "# -> get common stock profits\n",
    "avaleva = [(d[1][warrant]-common_price) for warrant in range(len(d[0]))]\n",
    "#avaleva\n",
    "d= np.vstack([d,np.array([avaleva])])\n",
    "# show price target defs + price targets + profits\n",
    "d"
   ]
  },
  {
   "cell_type": "code",
   "execution_count": 80,
   "metadata": {
    "collapsed": false
   },
   "outputs": [
    {
     "name": "stdout",
     "output_type": "stream",
     "text": [
      "0.295045045045\n",
      "0.618806306306\n",
      "0.942567567568\n",
      "1.59009009009\n",
      "2.23761261261\n",
      "2.88513513514\n",
      "4.18018018018\n",
      "5.47522522523\n"
     ]
    },
    {
     "data": {
      "text/plain": [
       "array([[  1.        ,   1.25      ,   1.5       ,   2.        ,\n",
       "          2.5       ,   3.        ,   4.        ,   5.        ],\n",
       "       [ 11.5       ,  14.375     ,  17.25      ,  23.        ,\n",
       "         28.75      ,  34.5       ,  46.        ,  57.5       ],\n",
       "       [  2.62      ,   5.495     ,   8.37      ,  14.12      ,\n",
       "         19.87      ,  25.62      ,  37.12      ,  48.62      ],\n",
       "       [  0.29504505,   0.61880631,   0.94256757,   1.59009009,\n",
       "          2.23761261,   2.88513514,   4.18018018,   5.47522523]])"
      ]
     },
     "execution_count": 80,
     "metadata": {},
     "output_type": "execute_result"
    }
   ],
   "source": [
    "#[print(((c[0][warrant]*warrant_xrs_price)-common_price)/common_price) for warrant in range(len(c))]\n",
    "# -> get common stock ROI\n",
    "avaleva = [(d[2][warrant]/common_price) for warrant in range(len(d[0]))]\n",
    "#avaleva\n",
    "d= np.vstack([d,np.array([avaleva])])\n",
    "# show price target defs + price targets + profits + ROI\n",
    "d"
   ]
  },
  {
   "cell_type": "code",
   "execution_count": 83,
   "metadata": {
    "collapsed": false
   },
   "outputs": [
    {
     "data": {
      "text/plain": [
       "array([[  1.        ,   1.25      ,   1.5       ,   2.        ,\n",
       "          2.5       ,   3.        ,   4.        ,   5.        ],\n",
       "       [ 11.5       ,  14.375     ,  17.25      ,  23.        ,\n",
       "         28.75      ,  34.5       ,  46.        ,  57.5       ],\n",
       "       [  2.62      ,   5.495     ,   8.37      ,  14.12      ,\n",
       "         19.87      ,  25.62      ,  37.12      ,  48.62      ],\n",
       "       [  0.29504505,   0.61880631,   0.94256757,   1.59009009,\n",
       "          2.23761261,   2.88513514,   4.18018018,   5.47522523],\n",
       "       [  0.        ,   2.875     ,   5.75      ,  11.5       ,\n",
       "         17.25      ,  23.        ,  34.5       ,  46.        ]])"
      ]
     },
     "execution_count": 83,
     "metadata": {},
     "output_type": "execute_result"
    }
   ],
   "source": [
    "# -> get warrant intrinsic values\n",
    "avaleva = [(d[1][warrant] - warrant_xrs_price) for warrant in range(len(d[0]))]\n",
    "#avaleva\n",
    "d= np.vstack([d,np.array([avaleva])])\n",
    "# show price target defs + price targets + profits + ROI + warrant intrinsic val\n",
    "d"
   ]
  },
  {
   "cell_type": "code",
   "execution_count": 70,
   "metadata": {
    "collapsed": false
   },
   "outputs": [
    {
     "data": {
      "text/plain": [
       "(1, 8)"
      ]
     },
     "execution_count": 70,
     "metadata": {},
     "output_type": "execute_result"
    }
   ],
   "source": [
    "# -> get warrant profits\n",
    "avaleva = [(d[1][warrant] - warrant_xrs_price) for warrant in range(len(d[0]))]\n",
    "#avaleva\n",
    "d= np.vstack([d,np.array([avaleva])])\n",
    "# show price target defs + price targets + profits + ROI + warrant intrinsic val\n",
    "d\n"
   ]
  },
  {
   "cell_type": "code",
   "execution_count": 76,
   "metadata": {
    "collapsed": false
   },
   "outputs": [],
   "source": [
    "d = None"
   ]
  },
  {
   "cell_type": "code",
   "execution_count": null,
   "metadata": {
    "collapsed": true
   },
   "outputs": [],
   "source": []
  }
 ],
 "metadata": {
  "kernelspec": {
   "display_name": "Python 3",
   "language": "python",
   "name": "python3"
  },
  "language_info": {
   "codemirror_mode": {
    "name": "ipython",
    "version": 3
   },
   "file_extension": ".py",
   "mimetype": "text/x-python",
   "name": "python",
   "nbconvert_exporter": "python",
   "pygments_lexer": "ipython3",
   "version": "3.6.0"
  }
 },
 "nbformat": 4,
 "nbformat_minor": 2
}
