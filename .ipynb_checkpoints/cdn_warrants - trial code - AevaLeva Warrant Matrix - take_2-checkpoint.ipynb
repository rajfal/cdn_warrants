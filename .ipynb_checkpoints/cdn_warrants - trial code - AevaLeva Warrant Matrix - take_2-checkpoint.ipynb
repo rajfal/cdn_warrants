{
 "cells": [
  {
   "cell_type": "code",
   "execution_count": 8,
   "metadata": {
    "collapsed": true
   },
   "outputs": [],
   "source": [
    "import numpy as np\n",
    "# refs\n",
    "# http://www.scipy-lectures.org/intro/numpy/array_object.html\n",
    "# https://chrisalbon.com/#Python\n",
    "# while this script can be applied to all listed warrants, only those that have been filtered will be used\n",
    "#"
   ]
  },
  {
   "cell_type": "code",
   "execution_count": 9,
   "metadata": {
    "collapsed": true
   },
   "outputs": [],
   "source": [
    "# set up numbers for Acasta Enterprises Inc market instruments \n",
    "# AEF.WT stock warrant\n",
    "#==============================================================\n",
    "common_price = 8.88\n",
    "warrant_price = 1.20\n",
    "warrant_xrs_price = 11.50\n",
    "#==============================================================\n",
    "# list setup\n",
    "# a - price_target_defs\n",
    "# b - price_targets\n",
    "# c - common_profits\n",
    "# d - common_ROI\n",
    "# e - warrant_intrinsic_values\n",
    "# f - warrant_profits\n",
    "# g - warrant_ROI\n",
    "# h - leverage (warrants/commons)\n",
    "# \n",
    "# objective is to calculate aevaleva, average leverage of a warrant cf. common stock over a range of price targets\n",
    "#"
   ]
  },
  {
   "cell_type": "code",
   "execution_count": 12,
   "metadata": {
    "collapsed": false
   },
   "outputs": [
    {
     "data": {
      "text/plain": [
       "[1.0, 1.25, 1.5, 2.0, 2.5, 3.0, 4.0, 5.0]"
      ]
     },
     "execution_count": 12,
     "metadata": {},
     "output_type": "execute_result"
    }
   ],
   "source": [
    "# define a list of price targets\n",
    "a = [1.0, 1.25, 1.5, 2.0, 2.5, 3.0, 4.0, 5.0]\n",
    "#len(price_target_defs)\n",
    "a"
   ]
  },
  {
   "cell_type": "code",
   "execution_count": 7,
   "metadata": {
    "collapsed": false
   },
   "outputs": [],
   "source": [
    "# append price targets to an empty array\n",
    "#c = np.append([price_target_defs],np.zeros(shape=(7,8)),axis=0)\n",
    "#c"
   ]
  },
  {
   "cell_type": "code",
   "execution_count": 13,
   "metadata": {
    "collapsed": false
   },
   "outputs": [
    {
     "name": "stdout",
     "output_type": "stream",
     "text": [
      "1.0\n",
      "1.25\n",
      "1.5\n",
      "2.0\n",
      "2.5\n",
      "3.0\n",
      "4.0\n",
      "5.0\n"
     ]
    },
    {
     "data": {
      "text/plain": [
       "[None, None, None, None, None, None, None, None]"
      ]
     },
     "execution_count": 13,
     "metadata": {},
     "output_type": "execute_result"
    }
   ],
   "source": [
    "[print(a[price_target]) for price_target in range(len(a))]"
   ]
  },
  {
   "cell_type": "code",
   "execution_count": 14,
   "metadata": {
    "collapsed": false
   },
   "outputs": [
    {
     "data": {
      "text/plain": [
       "[11.5, 14.375, 17.25, 23.0, 28.75, 34.5, 46.0, 57.5]"
      ]
     },
     "execution_count": 14,
     "metadata": {},
     "output_type": "execute_result"
    }
   ],
   "source": [
    "# -> get price targets\n",
    "b = [a[price_target]*warrant_xrs_price for price_target in range(len(a))]\n",
    "b"
   ]
  },
  {
   "cell_type": "code",
   "execution_count": 15,
   "metadata": {
    "collapsed": false
   },
   "outputs": [
    {
     "data": {
      "text/plain": [
       "[2.619999999999999,\n",
       " 5.494999999999999,\n",
       " 8.37,\n",
       " 14.12,\n",
       " 19.869999999999997,\n",
       " 25.619999999999997,\n",
       " 37.12,\n",
       " 48.62]"
      ]
     },
     "execution_count": 15,
     "metadata": {},
     "output_type": "execute_result"
    }
   ],
   "source": [
    "# -> get common stock profits\n",
    "c = [(b[price_target]-common_price) for price_target in range(len(b))]\n",
    "c"
   ]
  },
  {
   "cell_type": "code",
   "execution_count": 16,
   "metadata": {
    "collapsed": false
   },
   "outputs": [
    {
     "data": {
      "text/plain": [
       "[0.2950450450450449,\n",
       " 0.6188063063063062,\n",
       " 0.9425675675675674,\n",
       " 1.5900900900900898,\n",
       " 2.237612612612612,\n",
       " 2.8851351351351346,\n",
       " 4.180180180180179,\n",
       " 5.475225225225224]"
      ]
     },
     "execution_count": 16,
     "metadata": {},
     "output_type": "execute_result"
    }
   ],
   "source": [
    "# -> get common stock ROI\n",
    "d = [(c[price_target]/common_price) for price_target in range(len(c))]\n",
    "d"
   ]
  },
  {
   "cell_type": "code",
   "execution_count": 17,
   "metadata": {
    "collapsed": false
   },
   "outputs": [
    {
     "data": {
      "text/plain": [
       "[0.0, 2.875, 5.75, 11.5, 17.25, 23.0, 34.5, 46.0]"
      ]
     },
     "execution_count": 17,
     "metadata": {},
     "output_type": "execute_result"
    }
   ],
   "source": [
    "# -> get warrant intrinsic values\n",
    "e = [(b[price_target] - warrant_xrs_price) for price_target in range(len(b))]\n",
    "e"
   ]
  },
  {
   "cell_type": "code",
   "execution_count": 20,
   "metadata": {
    "collapsed": false
   },
   "outputs": [
    {
     "data": {
      "text/plain": [
       "[-1.2, 1.675, 4.55, 10.3, 16.05, 21.8, 33.3, 44.8]"
      ]
     },
     "execution_count": 20,
     "metadata": {},
     "output_type": "execute_result"
    }
   ],
   "source": [
    "# -> get warrant profits\n",
    "f = [(e[price_target] - warrant_price) for price_target in range(len(e))]\n",
    "f"
   ]
  },
  {
   "cell_type": "code",
   "execution_count": 22,
   "metadata": {
    "collapsed": false
   },
   "outputs": [
    {
     "data": {
      "text/plain": [
       "[-1.0,\n",
       " 1.3958333333333335,\n",
       " 3.7916666666666665,\n",
       " 8.583333333333334,\n",
       " 13.375000000000002,\n",
       " 18.166666666666668,\n",
       " 27.75,\n",
       " 37.333333333333336]"
      ]
     },
     "execution_count": 22,
     "metadata": {},
     "output_type": "execute_result"
    }
   ],
   "source": [
    "# -> get warrant ROI\n",
    "g = [(f[price_target] / warrant_price) for price_target in range(len(f))]\n",
    "g"
   ]
  },
  {
   "cell_type": "code",
   "execution_count": 25,
   "metadata": {
    "collapsed": false
   },
   "outputs": [
    {
     "data": {
      "text/plain": [
       "[-4.067175572519085,\n",
       " 2.706824385805278,\n",
       " 4.827240143369176,\n",
       " 6.477620396600568,\n",
       " 7.172823351786615,\n",
       " 7.555971896955505,\n",
       " 7.9661637931034495,\n",
       " 8.182311805841218]"
      ]
     },
     "execution_count": 25,
     "metadata": {},
     "output_type": "execute_result"
    }
   ],
   "source": [
    "# -> get ROI Leverage\n",
    "h = [(f[price_target] / d[price_target]) for price_target in range(len(f))]\n",
    "#d= np.vstack([d,np.array([avaleva])])\n",
    "# show price target defs + price targets + profits + ROI + war_intr vals + war_profits + war_ROI + ROI Leverage\n",
    "h"
   ]
  },
  {
   "cell_type": "code",
   "execution_count": 91,
   "metadata": {
    "collapsed": false
   },
   "outputs": [
    {
     "data": {
      "text/plain": [
       "array([[  1.        ,   1.25      ,   1.5       ,   2.        ,\n",
       "          2.5       ,   3.        ,   4.        ,   5.        ],\n",
       "       [ 11.5       ,  14.375     ,  17.25      ,  23.        ,\n",
       "         28.75      ,  34.5       ,  46.        ,  57.5       ],\n",
       "       [  2.62      ,   5.495     ,   8.37      ,  14.12      ,\n",
       "         19.87      ,  25.62      ,  37.12      ,  48.62      ],\n",
       "       [  0.29504505,   0.61880631,   0.94256757,   1.59009009,\n",
       "          2.23761261,   2.88513514,   4.18018018,   5.47522523],\n",
       "       [  0.        ,   2.875     ,   5.75      ,  11.5       ,\n",
       "         17.25      ,  23.        ,  34.5       ,  46.        ],\n",
       "       [ -1.2       ,   1.675     ,   4.55      ,  10.3       ,\n",
       "         16.05      ,  21.8       ,  33.3       ,  44.8       ],\n",
       "       [ -1.        ,   1.39583333,   3.79166667,   8.58333333,\n",
       "         13.375     ,  18.16666667,  27.75      ,  37.33333333],\n",
       "       [ -3.38931298,   2.25568699,   4.02270012,   5.398017  ,\n",
       "          5.97735279,   6.29664325,   6.63846983,   6.81859317]])"
      ]
     },
     "execution_count": 91,
     "metadata": {},
     "output_type": "execute_result"
    }
   ],
   "source": [
    "# -> get ROI Leverage\n",
    "avaleva = [(d[6][warrant] / d[3][warrant]) for warrant in range(len(d[0]))]\n",
    "#avaleva\n",
    "d= np.vstack([d,np.array([avaleva])])\n",
    "# show price target defs + price targets + profits + ROI + war_intr vals + war_profits + war_ROI + ROI Leverage\n",
    "d"
   ]
  },
  {
   "cell_type": "code",
   "execution_count": 28,
   "metadata": {
    "collapsed": false
   },
   "outputs": [
    {
     "ename": "AttributeError",
     "evalue": "'list' object has no attribute 'sum'",
     "output_type": "error",
     "traceback": [
      "\u001b[0;31m---------------------------------------------------------------------------\u001b[0m",
      "\u001b[0;31mAttributeError\u001b[0m                            Traceback (most recent call last)",
      "\u001b[0;32m<ipython-input-28-448dc838c68a>\u001b[0m in \u001b[0;36m<module>\u001b[0;34m()\u001b[0m\n\u001b[1;32m      1\u001b[0m \u001b[0;31m# calcuate Average Leverage - AvaLeva\u001b[0m\u001b[0;34m\u001b[0m\u001b[0;34m\u001b[0m\u001b[0m\n\u001b[1;32m      2\u001b[0m \u001b[0;31m#print(d[7].sum()/ len(d[7]) )\u001b[0m\u001b[0;34m\u001b[0m\u001b[0;34m\u001b[0m\u001b[0m\n\u001b[0;32m----> 3\u001b[0;31m \u001b[0mprint\u001b[0m\u001b[0;34m(\u001b[0m\u001b[0mh\u001b[0m\u001b[0;34m.\u001b[0m\u001b[0msum\u001b[0m\u001b[0;34m(\u001b[0m\u001b[0;34m)\u001b[0m\u001b[0;34m/\u001b[0m \u001b[0mlen\u001b[0m\u001b[0;34m(\u001b[0m\u001b[0mh\u001b[0m\u001b[0;34m)\u001b[0m\u001b[0;34m)\u001b[0m\u001b[0;34m\u001b[0m\u001b[0m\n\u001b[0m\u001b[1;32m      4\u001b[0m \u001b[0mprint\u001b[0m\u001b[0;34m(\u001b[0m\u001b[0mh\u001b[0m\u001b[0;34m[\u001b[0m\u001b[0;34m:\u001b[0m\u001b[0;34m]\u001b[0m\u001b[0;34m.\u001b[0m\u001b[0msum\u001b[0m\u001b[0;34m(\u001b[0m\u001b[0;34m)\u001b[0m\u001b[0;34m/\u001b[0m \u001b[0mlen\u001b[0m\u001b[0;34m(\u001b[0m\u001b[0mh\u001b[0m\u001b[0;34m)\u001b[0m \u001b[0;34m)\u001b[0m\u001b[0;34m\u001b[0m\u001b[0m\n",
      "\u001b[0;31mAttributeError\u001b[0m: 'list' object has no attribute 'sum'"
     ]
    }
   ],
   "source": [
    "# calcuate Average Leverage - AvaLeva\n",
    "#print(d[7].sum()/ len(d[7]) )\n",
    "print(h.sum()/ len(h))\n",
    "print(h[:].sum()/ len(h) )"
   ]
  },
  {
   "cell_type": "code",
   "execution_count": null,
   "metadata": {
    "collapsed": true
   },
   "outputs": [],
   "source": []
  }
 ],
 "metadata": {
  "celltoolbar": "Raw Cell Format",
  "kernelspec": {
   "display_name": "Python 3",
   "language": "python",
   "name": "python3"
  },
  "language_info": {
   "codemirror_mode": {
    "name": "ipython",
    "version": 3
   },
   "file_extension": ".py",
   "mimetype": "text/x-python",
   "name": "python",
   "nbconvert_exporter": "python",
   "pygments_lexer": "ipython3",
   "version": "3.6.0"
  }
 },
 "nbformat": 4,
 "nbformat_minor": 2
}
