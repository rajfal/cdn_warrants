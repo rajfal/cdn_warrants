{
 "cells": [
  {
   "cell_type": "code",
   "execution_count": 26,
   "metadata": {
    "collapsed": true
   },
   "outputs": [],
   "source": [
    "# Import modules\n",
    "import pandas as pd\n",
    "\n",
    "import seaborn as sns\n",
    "\n",
    "from warrant_alert_generator import *\n",
    "\n",
    "from warrant_aevaleva import *"
   ]
  },
  {
   "cell_type": "code",
   "execution_count": 33,
   "metadata": {
    "collapsed": false
   },
   "outputs": [],
   "source": [
    "# read in the filtered selection and display all warrants that satisfy the above filter\n",
    "df = pd.DataFrame.from_csv('warrants_filtered_selection.csv', index_col=None, )\n",
    "\n",
    "###==>  df"
   ]
  },
  {
   "cell_type": "code",
   "execution_count": 28,
   "metadata": {
    "collapsed": false
   },
   "outputs": [],
   "source": [
    "# calculate strenght of the alert signal - looking for at least 0.80\n",
    "\n",
    "# DESCRIBE what it does\n",
    "df['alert'] = df.apply(lambda row: gen_alert(row['leverage'], row['price-time-gain'], row['warrant']), axis=1)\n",
    "\n",
    "# calculate average leverage of buying stock warrants vs. common stock\n",
    "\n",
    "# DESCRIBE what it does\n",
    "df['avg-lvge'] = df.apply(lambda row: gen_avealeva(row['stock'], row['warrant'], row['exercise-price']), axis=1)\n",
    "\n",
    "# Determine what further course of action is required\n",
    "df['ACTION'] = df.apply(lambda row: ('investigate' if (float(row['alert']) >= 0.8  and float(row['avg-lvge']) >= 2.0) else 'wait'), axis=1)\n"
   ]
  },
  {
   "cell_type": "code",
   "execution_count": 31,
   "metadata": {
    "collapsed": false
   },
   "outputs": [],
   "source": [
    "# newly applied columns need to be incorporated into the data frame, not recognized by index?\n",
    "\n",
    "# save warrants that meet the selection condition to local file + only essential columns\n",
    "\n",
    "# choose columns of interest\n",
    "cols_wanted = ['company','symbol','stock','exercise-price','warrant','expiry-date', 'alert', 'avg-lvge', 'ACTION']\n",
    "#cols_wanted\n",
    "\n",
    "# push out another file for futher analysis\n",
    "df[cols_wanted].to_csv('warrants_recalced_selection.csv', index=False)\n",
    "\n",
    "# read in the reorganized selection and display all warrants\n",
    "df_1 = pd.DataFrame.from_csv('warrants_recalced_selection.csv', index_col=None )\n"
   ]
  },
  {
   "cell_type": "code",
   "execution_count": 34,
   "metadata": {
    "collapsed": false
   },
   "outputs": [],
   "source": [
    "# using seaborn\n",
    "\n",
    "cm = sns.light_palette(\"red\", as_cmap=True)\n",
    "\n",
    "show_result = df_1.style.background_gradient(cmap=cm, axis=0, subset=['alert', 'avg-lvge'])\n",
    "###==>show_result"
   ]
  },
  {
   "cell_type": "code",
   "execution_count": null,
   "metadata": {
    "collapsed": false
   },
   "outputs": [],
   "source": []
  }
 ],
 "metadata": {
  "kernelspec": {
   "display_name": "Python 3",
   "language": "python",
   "name": "python3"
  },
  "language_info": {
   "codemirror_mode": {
    "name": "ipython",
    "version": 3
   },
   "file_extension": ".py",
   "mimetype": "text/x-python",
   "name": "python",
   "nbconvert_exporter": "python",
   "pygments_lexer": "ipython3",
   "version": "3.6.0"
  }
 },
 "nbformat": 4,
 "nbformat_minor": 2
}
