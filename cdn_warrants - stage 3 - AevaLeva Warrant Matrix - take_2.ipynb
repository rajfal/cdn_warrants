{
 "cells": [
  {
   "cell_type": "code",
   "execution_count": 29,
   "metadata": {
    "collapsed": true
   },
   "outputs": [],
   "source": [
    "import numpy as np\n",
    "# refs\n",
    "# http://www.scipy-lectures.org/intro/numpy/array_object.html\n",
    "# https://chrisalbon.com/#Python\n",
    "# http://treyhunner.com/2015/12/python-list-comprehensions-now-in-color/\n",
    "# while this script can be applied to all listed warrants, only those that have been filtered will be used\n",
    "#"
   ]
  },
  {
   "cell_type": "code",
   "execution_count": 9,
   "metadata": {
    "collapsed": true
   },
   "outputs": [],
   "source": [
    "# set up numbers for Acasta Enterprises Inc market instruments \n",
    "# AEF.WT stock warrant\n",
    "#==============================================================\n",
    "common_price = 8.88\n",
    "warrant_price = 1.20\n",
    "warrant_xrs_price = 11.50\n",
    "#==============================================================\n",
    "# list setup\n",
    "# a - price_target_defs\n",
    "# b - price_targets\n",
    "# c - common_profits\n",
    "# d - common_ROI\n",
    "# e - warrant_intrinsic_values\n",
    "# f - warrant_profits\n",
    "# g - warrant_ROI\n",
    "# h - leverage (warrants/commons)\n",
    "# \n",
    "# objective is to calculate aevaleva, average leverage of a warrant cf. common stock over a range of price targets\n",
    "#"
   ]
  },
  {
   "cell_type": "code",
   "execution_count": 12,
   "metadata": {
    "collapsed": false
   },
   "outputs": [
    {
     "data": {
      "text/plain": [
       "[1.0, 1.25, 1.5, 2.0, 2.5, 3.0, 4.0, 5.0]"
      ]
     },
     "execution_count": 12,
     "metadata": {},
     "output_type": "execute_result"
    }
   ],
   "source": [
    "# define a list of price targets\n",
    "a = [1.0, 1.25, 1.5, 2.0, 2.5, 3.0, 4.0, 5.0]\n",
    "#len(price_target_defs)\n",
    "a"
   ]
  },
  {
   "cell_type": "code",
   "execution_count": 7,
   "metadata": {
    "collapsed": false
   },
   "outputs": [],
   "source": [
    "# append price targets to an empty array\n",
    "#c = np.append([price_target_defs],np.zeros(shape=(7,8)),axis=0)\n",
    "#c"
   ]
  },
  {
   "cell_type": "code",
   "execution_count": 13,
   "metadata": {
    "collapsed": false
   },
   "outputs": [
    {
     "name": "stdout",
     "output_type": "stream",
     "text": [
      "1.0\n",
      "1.25\n",
      "1.5\n",
      "2.0\n",
      "2.5\n",
      "3.0\n",
      "4.0\n",
      "5.0\n"
     ]
    },
    {
     "data": {
      "text/plain": [
       "[None, None, None, None, None, None, None, None]"
      ]
     },
     "execution_count": 13,
     "metadata": {},
     "output_type": "execute_result"
    }
   ],
   "source": [
    "[print(a[price_target]) for price_target in range(len(a))]"
   ]
  },
  {
   "cell_type": "code",
   "execution_count": 14,
   "metadata": {
    "collapsed": false
   },
   "outputs": [
    {
     "data": {
      "text/plain": [
       "[11.5, 14.375, 17.25, 23.0, 28.75, 34.5, 46.0, 57.5]"
      ]
     },
     "execution_count": 14,
     "metadata": {},
     "output_type": "execute_result"
    }
   ],
   "source": [
    "# -> get price targets\n",
    "b = [a[price_target]*warrant_xrs_price for price_target in range(len(a))]\n",
    "b"
   ]
  },
  {
   "cell_type": "code",
   "execution_count": 15,
   "metadata": {
    "collapsed": false
   },
   "outputs": [
    {
     "data": {
      "text/plain": [
       "[2.619999999999999,\n",
       " 5.494999999999999,\n",
       " 8.37,\n",
       " 14.12,\n",
       " 19.869999999999997,\n",
       " 25.619999999999997,\n",
       " 37.12,\n",
       " 48.62]"
      ]
     },
     "execution_count": 15,
     "metadata": {},
     "output_type": "execute_result"
    }
   ],
   "source": [
    "# -> get common stock profits\n",
    "c = [(b[price_target]-common_price) for price_target in range(len(b))]\n",
    "c"
   ]
  },
  {
   "cell_type": "code",
   "execution_count": 16,
   "metadata": {
    "collapsed": false
   },
   "outputs": [
    {
     "data": {
      "text/plain": [
       "[0.2950450450450449,\n",
       " 0.6188063063063062,\n",
       " 0.9425675675675674,\n",
       " 1.5900900900900898,\n",
       " 2.237612612612612,\n",
       " 2.8851351351351346,\n",
       " 4.180180180180179,\n",
       " 5.475225225225224]"
      ]
     },
     "execution_count": 16,
     "metadata": {},
     "output_type": "execute_result"
    }
   ],
   "source": [
    "# -> get common stock ROI\n",
    "d = [(c[price_target]/common_price) for price_target in range(len(c))]\n",
    "d"
   ]
  },
  {
   "cell_type": "code",
   "execution_count": 17,
   "metadata": {
    "collapsed": false
   },
   "outputs": [
    {
     "data": {
      "text/plain": [
       "[0.0, 2.875, 5.75, 11.5, 17.25, 23.0, 34.5, 46.0]"
      ]
     },
     "execution_count": 17,
     "metadata": {},
     "output_type": "execute_result"
    }
   ],
   "source": [
    "# -> get warrant intrinsic values\n",
    "e = [(b[price_target] - warrant_xrs_price) for price_target in range(len(b))]\n",
    "e"
   ]
  },
  {
   "cell_type": "code",
   "execution_count": 20,
   "metadata": {
    "collapsed": false
   },
   "outputs": [
    {
     "data": {
      "text/plain": [
       "[-1.2, 1.675, 4.55, 10.3, 16.05, 21.8, 33.3, 44.8]"
      ]
     },
     "execution_count": 20,
     "metadata": {},
     "output_type": "execute_result"
    }
   ],
   "source": [
    "# -> get warrant profits\n",
    "f = [(e[price_target] - warrant_price) for price_target in range(len(e))]\n",
    "f"
   ]
  },
  {
   "cell_type": "code",
   "execution_count": 22,
   "metadata": {
    "collapsed": false
   },
   "outputs": [
    {
     "data": {
      "text/plain": [
       "[-1.0,\n",
       " 1.3958333333333335,\n",
       " 3.7916666666666665,\n",
       " 8.583333333333334,\n",
       " 13.375000000000002,\n",
       " 18.166666666666668,\n",
       " 27.75,\n",
       " 37.333333333333336]"
      ]
     },
     "execution_count": 22,
     "metadata": {},
     "output_type": "execute_result"
    }
   ],
   "source": [
    "# -> get warrant ROI\n",
    "g = [(f[price_target] / warrant_price) for price_target in range(len(f))]it\n",
    "g"
   ]
  },
  {
   "cell_type": "code",
   "execution_count": 41,
   "metadata": {
    "collapsed": false
   },
   "outputs": [
    {
     "data": {
      "text/plain": [
       "[-3.3893129770992383,\n",
       " 2.2556869881710653,\n",
       " 4.0227001194743135,\n",
       " 5.39801699716714,\n",
       " 5.977352793155513,\n",
       " 6.296643247462921,\n",
       " 6.638469827586208,\n",
       " 6.818593171534349]"
      ]
     },
     "execution_count": 41,
     "metadata": {},
     "output_type": "execute_result"
    }
   ],
   "source": [
    "# -> get ROI Leverage\n",
    "h = [(g[price_target] / d[price_target]) for price_target in range(len(g))]\n",
    "h"
   ]
  },
  {
   "cell_type": "code",
   "execution_count": 40,
   "metadata": {
    "collapsed": false
   },
   "outputs": [
    {
     "name": "stdout",
     "output_type": "stream",
     "text": [
      "4.2522687709315345\n"
     ]
    }
   ],
   "source": [
    "# calcuate Average Leverage - AevaLeva\n",
    "print(sum(h) / len(h))"
   ]
  }
 ],
 "metadata": {
  "celltoolbar": "Raw Cell Format",
  "kernelspec": {
   "display_name": "Python 3",
   "language": "python",
   "name": "python3"
  },
  "language_info": {
   "codemirror_mode": {
    "name": "ipython",
    "version": 3
   },
   "file_extension": ".py",
   "mimetype": "text/x-python",
   "name": "python",
   "nbconvert_exporter": "python",
   "pygments_lexer": "ipython3",
   "version": "3.6.0"
  }
 },
 "nbformat": 4,
 "nbformat_minor": 2
}
